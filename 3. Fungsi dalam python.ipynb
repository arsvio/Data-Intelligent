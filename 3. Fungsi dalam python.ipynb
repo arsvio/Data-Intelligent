{
 "cells": [
  {
   "cell_type": "markdown",
   "metadata": {},
   "source": [
    "## Membuat fungsi\n",
    "\n",
    "Suatu fungsi adalah satu blok kode yang terorganisir dan dapat digunakan kembali. Fungsi akan berjalan jika dipanggil. Kita dapat memasukkan suatu data ke dalam fungsi, disebut dengan parameter. Fungsi tersebut, akan mengeluarkan data sebagai hasil. \n",
    "\n",
    "Python memberikan kita fungsi bulit-in, seperti: print() yang digunakan untuk menampilkan suatu variabel.   \n",
    "\n",
    "Mendefinisikan fungsi:  \n",
    "1. Blok fungsi dimulai dengan kata kunci `def` dan diikuti dengan `nama fungsi` dan kurung `( () )`  \n",
    "2. Input/argumen harus diletakkan di dalam tanda kurung. Selain itu, fungsi kurung digunakan untuk mendefinisikan parameter di dalamnya.  \n",
    "3. Fungsi terdiri dari header dan body. Header terdiri dari nama dan parameter (input), sedangkan body terdiri dari statement-statement yang merupakan blok kode. \n",
    "3. Statement pertama dapat merupakan statement opsional: dokumen string atau docstring.  \n",
    "3. Blok suatu kode di setiap fungsi dimulai dengan tanda titik dua (:) dan menjorok *(indented)*.  \n",
    "4. Statement `return (ekspresi)` keluar suatu fungsi, secara opsional mengembalikan suatu ekspresi ke pemanggil fungsi. Suatu statement return dengan tanpa argumen sama saja sebagai return None.   \n",
    "\n",
    "Sintaks fungsi:  \n",
    "```\n",
    "def nama_fungsi( parameters ):\n",
    "   \"function_docstring\"\n",
    "   \n",
    "   kode program\n",
    "   kode program\n",
    "   kode program \n",
    "   ...\n",
    "   \n",
    "   return (expression)\n",
    "```"
   ]
  },
  {
   "cell_type": "markdown",
   "metadata": {},
   "source": [
    "## 1. Fungsi tanpa parameter input dan satu return"
   ]
  },
  {
   "cell_type": "code",
   "execution_count": null,
   "metadata": {},
   "outputs": [],
   "source": [
    "def cetak():\n",
    "    print(\"Mata kuliah data intelligent dengan python\")"
   ]
  },
  {
   "cell_type": "code",
   "execution_count": null,
   "metadata": {},
   "outputs": [],
   "source": [
    "cetak()"
   ]
  },
  {
   "cell_type": "code",
   "execution_count": null,
   "metadata": {},
   "outputs": [],
   "source": [
    "def kuadrat():\n",
    "    \"Return nilai kuadrat 8\"\n",
    "    nilai = 8**2\n",
    "    return(nilai)"
   ]
  },
  {
   "cell_type": "code",
   "execution_count": null,
   "metadata": {},
   "outputs": [],
   "source": [
    "kuadrat()"
   ]
  },
  {
   "cell_type": "markdown",
   "metadata": {},
   "source": [
    "### Latihan 1\n",
    "Buatlah fungsi dengan nama: aku(), berikan doscstring, badan fungsi adalah nilai_aku (isi dengan sebarang nilai: str, int, float), contoh: nilai_aku = \"Orang yang rajin meng-coding\""
   ]
  },
  {
   "cell_type": "code",
   "execution_count": null,
   "metadata": {},
   "outputs": [],
   "source": [
    "# Contoh\n",
    "def aku():\n",
    "    \"Return nilai aku\"\n",
    "    nilai_aku = str(1) + \" Orang yang rajin meng-coding\" \n",
    "    return(nilai_aku)"
   ]
  },
  {
   "cell_type": "code",
   "execution_count": null,
   "metadata": {},
   "outputs": [],
   "source": [
    "aku()"
   ]
  },
  {
   "cell_type": "markdown",
   "metadata": {},
   "source": [
    "## 2. Fungsi dengan satu parameter input"
   ]
  },
  {
   "cell_type": "code",
   "execution_count": null,
   "metadata": {},
   "outputs": [],
   "source": [
    "# Contoh\n",
    "def kuadrat(angka):\n",
    "    \"Return nilai kuadrat dari angka\"\n",
    "    nilai = angka**2\n",
    "    return(nilai)"
   ]
  },
  {
   "cell_type": "code",
   "execution_count": null,
   "metadata": {},
   "outputs": [],
   "source": [
    "kuadrat(100.5)"
   ]
  },
  {
   "cell_type": "markdown",
   "metadata": {},
   "source": [
    "### Latihan 2\n",
    "Buatlah parameter (input) untuk fungsi aku()"
   ]
  },
  {
   "cell_type": "code",
   "execution_count": null,
   "metadata": {},
   "outputs": [],
   "source": [
    "# Contoh\n",
    "def aku(bahasa):\n",
    "    \"Return nilai aku\"\n",
    "    nilai_aku = \"Orang yang rajin meng-coding \" + bahasa\n",
    "    return(nilai_aku)"
   ]
  },
  {
   "cell_type": "code",
   "execution_count": null,
   "metadata": {},
   "outputs": [],
   "source": [
    "aku(\"python\")"
   ]
  },
  {
   "cell_type": "code",
   "execution_count": null,
   "metadata": {},
   "outputs": [],
   "source": [
    "aku(\"R\")"
   ]
  },
  {
   "cell_type": "markdown",
   "metadata": {},
   "source": [
    "## 3. Fungsi dengan lebih dari satu parameter"
   ]
  },
  {
   "cell_type": "code",
   "execution_count": null,
   "metadata": {},
   "outputs": [],
   "source": [
    "# Perhatikan return dalam fungsi berikut\n",
    "\n",
    "def uii(nama, nim):\n",
    "    print(\"Nama:\", nama)\n",
    "    print(\"NIM :\", nim)\n",
    "    return"
   ]
  },
  {
   "cell_type": "code",
   "execution_count": null,
   "metadata": {},
   "outputs": [],
   "source": [
    "uii(\"Arum\", \"146110504\")"
   ]
  },
  {
   "cell_type": "markdown",
   "metadata": {},
   "source": [
    "## 4. Fungsi dengan lebih dari satu return\n",
    "\n",
    "Ditampilkan dalam bentuk tuple. \n",
    " "
   ]
  },
  {
   "cell_type": "code",
   "execution_count": null,
   "metadata": {},
   "outputs": [],
   "source": [
    "# Tuple\n",
    "buah = (\"apel\", \"jeruk\", \"pisang\")\n",
    "print(buah)"
   ]
  },
  {
   "cell_type": "code",
   "execution_count": null,
   "metadata": {},
   "outputs": [],
   "source": [
    "a, b, c = buah\n",
    "print(a)\n",
    "print(c)"
   ]
  },
  {
   "cell_type": "code",
   "execution_count": null,
   "metadata": {},
   "outputs": [],
   "source": [
    "# Gunakan tuple untuk return yang lebih dari satu\n",
    "\n",
    "def ukuran(a, b):\n",
    "    \"Return keliling dan luas persegi panjang\"\n",
    "    keliling = 2*(a+b)\n",
    "    luas = a*b\n",
    "    return(keliling, luas)\n",
    "    "
   ]
  },
  {
   "cell_type": "code",
   "execution_count": null,
   "metadata": {},
   "outputs": [],
   "source": [
    "ukuran(4, 8)"
   ]
  },
  {
   "cell_type": "code",
   "execution_count": null,
   "metadata": {},
   "outputs": [],
   "source": [
    "kel, lu = ukuran(4,8)"
   ]
  },
  {
   "cell_type": "code",
   "execution_count": null,
   "metadata": {},
   "outputs": [],
   "source": [
    "print(kel)"
   ]
  },
  {
   "cell_type": "markdown",
   "metadata": {},
   "source": [
    "### Latihan 3\n",
    "\n",
    "Buatlah fungsi pembungaan berikut:  \n",
    "1. Bunga tunggal         \n",
    "    Bunga efektif: $i_e = \\frac{i}{1+i*(t-1)}$         \n",
    "    Nilai akumulasi: $At = k*(1+it)$         \n",
    "2. Bunga majemuk   \n",
    "    Bunga efektif: $i_e = i$       \n",
    "    Nilai akumulasi: $At = k*(1+i)^t$   \n",
    "  \n",
    "Berikan nama fungsi: bunga(), lengkapi dengan docstring, return ke nilai bunga efektif dan akumulasi bunga tunggal dan majemuk"
   ]
  },
  {
   "cell_type": "code",
   "execution_count": null,
   "metadata": {},
   "outputs": [],
   "source": [
    "# buat fungsi pembungaan\n",
    "\n",
    "def bunga(pil, k, i, t):\n",
    "    '''\n",
    "    return ke nilai akumulasi bunga tunggal dan majemuk\n",
    "    pil = 1 untuk memilih bunga tunggal, pil = lainnya untk bunga majemuk\n",
    "    i = bunga\n",
    "    t = periode (tahun)\n",
    "    k = modal\n",
    "    '''\n",
    "    if pil == 1:\n",
    "        ie = ...........\n",
    "        ak = k*(1+i*t)\n",
    "    else:\n",
    "        ..............\n",
    "        ..............\n",
    "    return(ie, ak)"
   ]
  },
  {
   "cell_type": "code",
   "execution_count": null,
   "metadata": {},
   "outputs": [],
   "source": [
    "# berikan return pada dua obyek berbeda a, b\n",
    "a, b = bunga(1, 100, 0.08, 4)"
   ]
  },
  {
   "cell_type": "code",
   "execution_count": null,
   "metadata": {},
   "outputs": [],
   "source": [
    "# print output a\n",
    "print(a, b)"
   ]
  },
  {
   "cell_type": "code",
   "execution_count": null,
   "metadata": {},
   "outputs": [],
   "source": [
    "from random import randint"
   ]
  },
  {
   "cell_type": "markdown",
   "metadata": {},
   "source": [
    "### Latihan 4\n",
    "\n",
    "Buat suatu fungsi mengeluarkan bilangan random dengan aturan berikut:\n",
    "1. Memiliki input x: jumlah bilangan random dan y: batas atas bilangan random (0,y)\n",
    "2. Berikan nama fungsinya toss\n",
    "3. Berikan kategori berikut:     \n",
    "\n",
    "| bilangan random (a) | kategori       \n",
    "|:-------|:-----------   \n",
    "|a>=200 | tinggi    \n",
    "|100<=a<200 | sedang         \n",
    "|a<100 | rendah   \n",
    "\n",
    "contoh output merandom 3 bilangan dengan batas (0,500), dengan kategori seperti poin 3).  \n",
    "\n",
    "`toss(3, 500)`   \n",
    "0 200 tinggi   \n",
    "1 104 sedang    \n",
    "2 20  rendah    "
   ]
  },
  {
   "cell_type": "markdown",
   "metadata": {},
   "source": [
    "## 5. Fungsi lambda\n",
    "\n",
    "Fungsi lambda adalah fungsi anonim yang kecil. Fungsi lambda dapat mengambil sejumlah argumen, tetapi hanya dapat memiliki satu ekspresi [3]. \n",
    "\n",
    "Fungsi-fungsi ini disebut anonim karena mereka tidak dideklarasikan dengan cara standar dengan menggunakan kata kunci `def`. Anda dapat menggunakan kata kunci lambda untuk membuat fungsi anonim kecil [1]. \n",
    "1. Bentuk lambda dapat mengambil sejumlah argumen tetapi hanya menghasilkan satu nilai dalam bentuk ekspresi. Mereka tidak dapat memuat perintah atau beberapa ekspresi.  \n",
    "2. Fungsi anonim tidak dapat panggilan langsung untuk mencetak karena lambda membutuhkan ekspresi.  \n",
    "3. Fungsi Lambda memiliki namespace lokal mereka sendiri dan tidak dapat mengakses variabel selain yang ada di daftar parameter mereka dan yang ada di namespace global.   \n",
    "  \n",
    "Sintak lamba:\n",
    "```\n",
    "lambda argumen-argumen : ekspresi\n",
    "```"
   ]
  },
  {
   "cell_type": "code",
   "execution_count": null,
   "metadata": {},
   "outputs": [],
   "source": [
    "# Fungsi lambda yang menjumlahkan dengan 5, pada angka yang dituliskan dalam argumen\n",
    "\n",
    "x = lambda a: a + 5"
   ]
  },
  {
   "cell_type": "code",
   "execution_count": null,
   "metadata": {},
   "outputs": [],
   "source": [
    "print(x(7))"
   ]
  },
  {
   "cell_type": "code",
   "execution_count": null,
   "metadata": {},
   "outputs": [],
   "source": [
    "jumlah = lambda x, y: x+y"
   ]
  },
  {
   "cell_type": "code",
   "execution_count": null,
   "metadata": {},
   "outputs": [],
   "source": [
    "print(jumlah(20, 100))"
   ]
  },
  {
   "cell_type": "markdown",
   "metadata": {},
   "source": [
    "### Latihan 5\n",
    "1. Buatlah lambda untuk modulo suatu bilangan dengan 4. Contoh (6 mod 4) = 2, (12 mod 4) = 0 . \n",
    "2. Buatlah lambda dengan input a, b, dan c dengan rumus $\\frac{1+a^b}{c}$"
   ]
  },
  {
   "cell_type": "code",
   "execution_count": null,
   "metadata": {},
   "outputs": [],
   "source": [
    "# lambda modulo\n",
    "dd = lambda bil: bil%4"
   ]
  },
  {
   "cell_type": "code",
   "execution_count": null,
   "metadata": {},
   "outputs": [],
   "source": [
    "# berikan input bilangan 234463\n",
    "dd(234463)"
   ]
  },
  {
   "cell_type": "code",
   "execution_count": null,
   "metadata": {},
   "outputs": [],
   "source": [
    "# lambda \n",
    "\n"
   ]
  },
  {
   "cell_type": "code",
   "execution_count": null,
   "metadata": {},
   "outputs": [],
   "source": [
    "# berikan input a = 2, b = 5, c = 4"
   ]
  },
  {
   "cell_type": "code",
   "execution_count": null,
   "metadata": {},
   "outputs": [],
   "source": []
  },
  {
   "cell_type": "markdown",
   "metadata": {},
   "source": [
    "Reference:\n",
    "1. tutorial point, 2018, Python Function, https://www.tutorialspoint.com/python/python_functions.htm\n",
    "2. w3schools, 2018, Python Function, https://www.w3schools.com/python/python_functions.asp \n",
    "3. w3schools, 2018, Python Lambda, https://www.w3schools.com/python/python_lambda.asp  \n"
   ]
  }
 ],
 "metadata": {
  "kernelspec": {
   "display_name": "Python 3",
   "language": "python",
   "name": "python3"
  },
  "language_info": {
   "codemirror_mode": {
    "name": "ipython",
    "version": 3
   },
   "file_extension": ".py",
   "mimetype": "text/x-python",
   "name": "python",
   "nbconvert_exporter": "python",
   "pygments_lexer": "ipython3",
   "version": "3.7.0"
  }
 },
 "nbformat": 4,
 "nbformat_minor": 2
}
