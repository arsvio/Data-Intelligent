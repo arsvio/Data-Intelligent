{
 "cells": [
  {
   "cell_type": "markdown",
   "metadata": {},
   "source": [
    "# Package Pandas  \n",
    "\n",
    "Digunakan untuk pengolahan data yang berkaitan dengan data frame. "
   ]
  },
  {
   "cell_type": "code",
   "execution_count": 5,
   "metadata": {},
   "outputs": [],
   "source": [
    "# Lakukan import pandas sebagai pd\n",
    "import pandas as pd"
   ]
  },
  {
   "cell_type": "code",
   "execution_count": 6,
   "metadata": {},
   "outputs": [],
   "source": [
    "# Lakukan import numpy sebagai np\n",
    "import numpy as np"
   ]
  },
  {
   "cell_type": "markdown",
   "metadata": {},
   "source": [
    "## 1. Membuat dataframe\n",
    "\n",
    "Untuk membuat data frame, digunakan sintaks berikut: `pandas.DataFrame( data, index, columns, dtype, copy)`  \n",
    "1. index merupakan label untuk baris   \n",
    "2. columns merupakan label untuk kolom\n",
    "3. dtype merupakan tipe data perkolom\n",
    "4. copy digunakan untuk menyalin data, defaultnya False"
   ]
  },
  {
   "cell_type": "code",
   "execution_count": 7,
   "metadata": {},
   "outputs": [
    {
     "name": "stdout",
     "output_type": "stream",
     "text": [
      "DatetimeIndex(['2020-09-30', '2020-10-31', '2020-11-30', '2020-12-31',\n",
      "               '2021-01-31', '2021-02-28', '2021-03-31', '2021-04-30',\n",
      "               '2021-05-31'],\n",
      "              dtype='datetime64[ns]', freq='M')\n"
     ]
    }
   ],
   "source": [
    "# Membuat rentang waktu\n",
    "tanggal = pd.date_range(\"20200901\", freq=\"M\", periods=9)\n",
    "print(tanggal)"
   ]
  },
  {
   "cell_type": "code",
   "execution_count": 8,
   "metadata": {},
   "outputs": [
    {
     "data": {
      "text/html": [
       "<div>\n",
       "<style scoped>\n",
       "    .dataframe tbody tr th:only-of-type {\n",
       "        vertical-align: middle;\n",
       "    }\n",
       "\n",
       "    .dataframe tbody tr th {\n",
       "        vertical-align: top;\n",
       "    }\n",
       "\n",
       "    .dataframe thead th {\n",
       "        text-align: right;\n",
       "    }\n",
       "</style>\n",
       "<table border=\"1\" class=\"dataframe\">\n",
       "  <thead>\n",
       "    <tr style=\"text-align: right;\">\n",
       "      <th></th>\n",
       "      <th>A</th>\n",
       "      <th>B</th>\n",
       "      <th>C</th>\n",
       "      <th>D</th>\n",
       "    </tr>\n",
       "  </thead>\n",
       "  <tbody>\n",
       "    <tr>\n",
       "      <th>2020-09-30</th>\n",
       "      <td>1.427918</td>\n",
       "      <td>-0.366850</td>\n",
       "      <td>-0.660146</td>\n",
       "      <td>0.466842</td>\n",
       "    </tr>\n",
       "    <tr>\n",
       "      <th>2020-10-31</th>\n",
       "      <td>-0.327835</td>\n",
       "      <td>-0.480494</td>\n",
       "      <td>1.832592</td>\n",
       "      <td>-0.220032</td>\n",
       "    </tr>\n",
       "    <tr>\n",
       "      <th>2020-11-30</th>\n",
       "      <td>-1.952447</td>\n",
       "      <td>-0.359836</td>\n",
       "      <td>0.765836</td>\n",
       "      <td>-0.717866</td>\n",
       "    </tr>\n",
       "    <tr>\n",
       "      <th>2020-12-31</th>\n",
       "      <td>-1.049940</td>\n",
       "      <td>0.265696</td>\n",
       "      <td>0.733363</td>\n",
       "      <td>0.216097</td>\n",
       "    </tr>\n",
       "    <tr>\n",
       "      <th>2021-01-31</th>\n",
       "      <td>-0.420007</td>\n",
       "      <td>1.355980</td>\n",
       "      <td>0.166366</td>\n",
       "      <td>-0.120918</td>\n",
       "    </tr>\n",
       "    <tr>\n",
       "      <th>2021-02-28</th>\n",
       "      <td>-0.490761</td>\n",
       "      <td>0.058906</td>\n",
       "      <td>-1.021296</td>\n",
       "      <td>-0.066741</td>\n",
       "    </tr>\n",
       "    <tr>\n",
       "      <th>2021-03-31</th>\n",
       "      <td>0.719834</td>\n",
       "      <td>0.135828</td>\n",
       "      <td>0.641390</td>\n",
       "      <td>-0.831297</td>\n",
       "    </tr>\n",
       "    <tr>\n",
       "      <th>2021-04-30</th>\n",
       "      <td>-0.291136</td>\n",
       "      <td>0.472626</td>\n",
       "      <td>0.093249</td>\n",
       "      <td>-1.246421</td>\n",
       "    </tr>\n",
       "    <tr>\n",
       "      <th>2021-05-31</th>\n",
       "      <td>-0.047930</td>\n",
       "      <td>-0.643350</td>\n",
       "      <td>0.667482</td>\n",
       "      <td>0.119585</td>\n",
       "    </tr>\n",
       "  </tbody>\n",
       "</table>\n",
       "</div>"
      ],
      "text/plain": [
       "                   A         B         C         D\n",
       "2020-09-30  1.427918 -0.366850 -0.660146  0.466842\n",
       "2020-10-31 -0.327835 -0.480494  1.832592 -0.220032\n",
       "2020-11-30 -1.952447 -0.359836  0.765836 -0.717866\n",
       "2020-12-31 -1.049940  0.265696  0.733363  0.216097\n",
       "2021-01-31 -0.420007  1.355980  0.166366 -0.120918\n",
       "2021-02-28 -0.490761  0.058906 -1.021296 -0.066741\n",
       "2021-03-31  0.719834  0.135828  0.641390 -0.831297\n",
       "2021-04-30 -0.291136  0.472626  0.093249 -1.246421\n",
       "2021-05-31 -0.047930 -0.643350  0.667482  0.119585"
      ]
     },
     "execution_count": 8,
     "metadata": {},
     "output_type": "execute_result"
    }
   ],
   "source": [
    "# Membuat data frame dengan data randon ukuran 9x4, serta label baris adalah tanggal dan label kolom A, B, C, D\n",
    "contoh1 = pd.DataFrame(np.random.randn(9,4), index=tanggal, columns=(\"A\",\"B\",\"C\",\"D\"))\n",
    "contoh1"
   ]
  },
  {
   "cell_type": "code",
   "execution_count": 9,
   "metadata": {},
   "outputs": [
    {
     "data": {
      "text/html": [
       "<div>\n",
       "<style scoped>\n",
       "    .dataframe tbody tr th:only-of-type {\n",
       "        vertical-align: middle;\n",
       "    }\n",
       "\n",
       "    .dataframe tbody tr th {\n",
       "        vertical-align: top;\n",
       "    }\n",
       "\n",
       "    .dataframe thead th {\n",
       "        text-align: right;\n",
       "    }\n",
       "</style>\n",
       "<table border=\"1\" class=\"dataframe\">\n",
       "  <thead>\n",
       "    <tr style=\"text-align: right;\">\n",
       "      <th></th>\n",
       "      <th>A</th>\n",
       "      <th>B</th>\n",
       "      <th>C</th>\n",
       "      <th>D</th>\n",
       "      <th>E</th>\n",
       "    </tr>\n",
       "  </thead>\n",
       "  <tbody>\n",
       "    <tr>\n",
       "      <th>satu</th>\n",
       "      <td>1.0</td>\n",
       "      <td>2018-09-25</td>\n",
       "      <td>3</td>\n",
       "      <td>test</td>\n",
       "      <td>1</td>\n",
       "    </tr>\n",
       "    <tr>\n",
       "      <th>dua</th>\n",
       "      <td>1.0</td>\n",
       "      <td>2018-09-25</td>\n",
       "      <td>3</td>\n",
       "      <td>train</td>\n",
       "      <td>12</td>\n",
       "    </tr>\n",
       "    <tr>\n",
       "      <th>tiga</th>\n",
       "      <td>1.0</td>\n",
       "      <td>2018-09-25</td>\n",
       "      <td>3</td>\n",
       "      <td>test</td>\n",
       "      <td>32</td>\n",
       "    </tr>\n",
       "    <tr>\n",
       "      <th>empat</th>\n",
       "      <td>1.0</td>\n",
       "      <td>2018-09-25</td>\n",
       "      <td>3</td>\n",
       "      <td>train</td>\n",
       "      <td>14</td>\n",
       "    </tr>\n",
       "  </tbody>\n",
       "</table>\n",
       "</div>"
      ],
      "text/plain": [
       "         A          B  C      D   E\n",
       "satu   1.0 2018-09-25  3   test   1\n",
       "dua    1.0 2018-09-25  3  train  12\n",
       "tiga   1.0 2018-09-25  3   test  32\n",
       "empat  1.0 2018-09-25  3  train  14"
      ]
     },
     "execution_count": 9,
     "metadata": {},
     "output_type": "execute_result"
    }
   ],
   "source": [
    "# Membuat dataframe dengan daftar anggota\n",
    "contoh2 = pd.DataFrame({\"A\": 1.,\n",
    "                       \"B\": pd.Timestamp(\"20180925\"),\n",
    "                       \"C\": np.array([3]*4, dtype=\"int32\"),\n",
    "                       \"D\": pd.Categorical([\"test\",\"train\"]*2),\n",
    "                       \"E\": np.array([1,12,32,14])}, index=[\"satu\",\"dua\",\"tiga\",\"empat\"])\n",
    "contoh2"
   ]
  },
  {
   "cell_type": "markdown",
   "metadata": {},
   "source": [
    "## 2. Menambah, menghapus, dan menyeleksi kolom data frame\n",
    "\n",
    "Menghapus kolom dengan fungsi:  \n",
    "1. `del(data_frame[\"kolom\"])` \n",
    "2. `.pop(\"kolom\")`\n",
    "3. `.drop(\"kolom\", axis=1)`; axis=1 berarti menghapus sepanjang kolom yang dimaksud\n",
    "\n",
    "Menambahkan kolom baru dengan operasi matematis \"+\""
   ]
  },
  {
   "cell_type": "code",
   "execution_count": 10,
   "metadata": {},
   "outputs": [
    {
     "name": "stdout",
     "output_type": "stream",
     "text": [
      "         A          B  C      D   E   F\n",
      "satu   1.0 2018-09-25  3   test   1   4\n",
      "dua    1.0 2018-09-25  3  train  12  15\n",
      "tiga   1.0 2018-09-25  3   test  32  35\n",
      "empat  1.0 2018-09-25  3  train  14  17\n"
     ]
    }
   ],
   "source": [
    "# Menambahkan kolom baru dengan nama \"F\", dengan operasi penambahan kolom \"C\" dan \"E\"\n",
    "contoh2[\"F\"]=contoh2[\"C\"]+contoh2[\"E\"]\n",
    "print(contoh2)"
   ]
  },
  {
   "cell_type": "code",
   "execution_count": 11,
   "metadata": {},
   "outputs": [
    {
     "name": "stdout",
     "output_type": "stream",
     "text": [
      "         A          B  C      D   E   F     G\n",
      "satu   1.0 2018-09-25  3   test   1   4  10.0\n",
      "dua    1.0 2018-09-25  3  train  12  15   NaN\n",
      "tiga   1.0 2018-09-25  3   test  32  35  20.0\n",
      "empat  1.0 2018-09-25  3  train  14  17  30.0\n"
     ]
    }
   ],
   "source": [
    "# Menambahkan kolom baru dengan nama \"G\", pada index satu, tiga, empat \n",
    "contoh2[\"G\"]=pd.Series([10,20,30], index=[\"satu\", \"tiga\", \"empat\"])\n",
    "print(contoh2)"
   ]
  },
  {
   "cell_type": "code",
   "execution_count": 12,
   "metadata": {},
   "outputs": [
    {
     "data": {
      "text/html": [
       "<div>\n",
       "<style scoped>\n",
       "    .dataframe tbody tr th:only-of-type {\n",
       "        vertical-align: middle;\n",
       "    }\n",
       "\n",
       "    .dataframe tbody tr th {\n",
       "        vertical-align: top;\n",
       "    }\n",
       "\n",
       "    .dataframe thead th {\n",
       "        text-align: right;\n",
       "    }\n",
       "</style>\n",
       "<table border=\"1\" class=\"dataframe\">\n",
       "  <thead>\n",
       "    <tr style=\"text-align: right;\">\n",
       "      <th></th>\n",
       "      <th>A</th>\n",
       "      <th>C</th>\n",
       "      <th>D</th>\n",
       "      <th>E</th>\n",
       "      <th>F</th>\n",
       "      <th>G</th>\n",
       "    </tr>\n",
       "  </thead>\n",
       "  <tbody>\n",
       "    <tr>\n",
       "      <th>satu</th>\n",
       "      <td>1.0</td>\n",
       "      <td>3</td>\n",
       "      <td>test</td>\n",
       "      <td>1</td>\n",
       "      <td>4</td>\n",
       "      <td>10.0</td>\n",
       "    </tr>\n",
       "    <tr>\n",
       "      <th>dua</th>\n",
       "      <td>1.0</td>\n",
       "      <td>3</td>\n",
       "      <td>train</td>\n",
       "      <td>12</td>\n",
       "      <td>15</td>\n",
       "      <td>NaN</td>\n",
       "    </tr>\n",
       "    <tr>\n",
       "      <th>tiga</th>\n",
       "      <td>1.0</td>\n",
       "      <td>3</td>\n",
       "      <td>test</td>\n",
       "      <td>32</td>\n",
       "      <td>35</td>\n",
       "      <td>20.0</td>\n",
       "    </tr>\n",
       "    <tr>\n",
       "      <th>empat</th>\n",
       "      <td>1.0</td>\n",
       "      <td>3</td>\n",
       "      <td>train</td>\n",
       "      <td>14</td>\n",
       "      <td>17</td>\n",
       "      <td>30.0</td>\n",
       "    </tr>\n",
       "  </tbody>\n",
       "</table>\n",
       "</div>"
      ],
      "text/plain": [
       "         A  C      D   E   F     G\n",
       "satu   1.0  3   test   1   4  10.0\n",
       "dua    1.0  3  train  12  15   NaN\n",
       "tiga   1.0  3   test  32  35  20.0\n",
       "empat  1.0  3  train  14  17  30.0"
      ]
     },
     "execution_count": 12,
     "metadata": {},
     "output_type": "execute_result"
    }
   ],
   "source": [
    "# Menghapus kolom \"B\" dengan fungsi del\n",
    "del(contoh2[\"B\"])\n",
    "contoh2"
   ]
  },
  {
   "cell_type": "code",
   "execution_count": 13,
   "metadata": {},
   "outputs": [
    {
     "data": {
      "text/html": [
       "<div>\n",
       "<style scoped>\n",
       "    .dataframe tbody tr th:only-of-type {\n",
       "        vertical-align: middle;\n",
       "    }\n",
       "\n",
       "    .dataframe tbody tr th {\n",
       "        vertical-align: top;\n",
       "    }\n",
       "\n",
       "    .dataframe thead th {\n",
       "        text-align: right;\n",
       "    }\n",
       "</style>\n",
       "<table border=\"1\" class=\"dataframe\">\n",
       "  <thead>\n",
       "    <tr style=\"text-align: right;\">\n",
       "      <th></th>\n",
       "      <th>A</th>\n",
       "      <th>D</th>\n",
       "      <th>E</th>\n",
       "      <th>F</th>\n",
       "      <th>G</th>\n",
       "    </tr>\n",
       "  </thead>\n",
       "  <tbody>\n",
       "    <tr>\n",
       "      <th>satu</th>\n",
       "      <td>1.0</td>\n",
       "      <td>test</td>\n",
       "      <td>1</td>\n",
       "      <td>4</td>\n",
       "      <td>10.0</td>\n",
       "    </tr>\n",
       "    <tr>\n",
       "      <th>dua</th>\n",
       "      <td>1.0</td>\n",
       "      <td>train</td>\n",
       "      <td>12</td>\n",
       "      <td>15</td>\n",
       "      <td>NaN</td>\n",
       "    </tr>\n",
       "    <tr>\n",
       "      <th>tiga</th>\n",
       "      <td>1.0</td>\n",
       "      <td>test</td>\n",
       "      <td>32</td>\n",
       "      <td>35</td>\n",
       "      <td>20.0</td>\n",
       "    </tr>\n",
       "    <tr>\n",
       "      <th>empat</th>\n",
       "      <td>1.0</td>\n",
       "      <td>train</td>\n",
       "      <td>14</td>\n",
       "      <td>17</td>\n",
       "      <td>30.0</td>\n",
       "    </tr>\n",
       "  </tbody>\n",
       "</table>\n",
       "</div>"
      ],
      "text/plain": [
       "         A      D   E   F     G\n",
       "satu   1.0   test   1   4  10.0\n",
       "dua    1.0  train  12  15   NaN\n",
       "tiga   1.0   test  32  35  20.0\n",
       "empat  1.0  train  14  17  30.0"
      ]
     },
     "execution_count": 13,
     "metadata": {},
     "output_type": "execute_result"
    }
   ],
   "source": [
    "# Menghapus kolom \"C\" dengan pop\n",
    "contoh2.pop(\"C\")\n",
    "contoh2"
   ]
  },
  {
   "cell_type": "code",
   "execution_count": 15,
   "metadata": {},
   "outputs": [
    {
     "data": {
      "text/plain": [
       "satu     1.0\n",
       "dua      1.0\n",
       "tiga     1.0\n",
       "empat    1.0\n",
       "Name: A, dtype: float64"
      ]
     },
     "execution_count": 15,
     "metadata": {},
     "output_type": "execute_result"
    }
   ],
   "source": [
    "# Menyeleksi kolom \"A\"\n",
    "kolomA = contoh2[\"A\"]\n",
    "kolomA"
   ]
  },
  {
   "cell_type": "code",
   "execution_count": null,
   "metadata": {},
   "outputs": [],
   "source": [
    "# Menghapus kolom \"A\" dengan fungsi drop\n",
    "contoh2_hapus = contoh2.drop(\"A\", axis = 1)\n",
    "contoh2_hapus.head()"
   ]
  },
  {
   "cell_type": "markdown",
   "metadata": {},
   "source": [
    "## 3. Menambah, mengurang, dan menyeleksi baris pada data frame\n",
    "\n",
    "Menyeleksi/mengiris data frame dengan fungsi:\n",
    "1. `loc`: untuk seleksi dengan menggunakan indeks/bilangan bulat\n",
    "2. `iloc`: untuk seleksi dengan menggunakan bilangan bulat\n",
    "\n",
    "Menambah baris dengan fungsi: `.append()`\n",
    "\n",
    "Menghapus baris dengan fungsi: `.del(\"index\", axis=0)`, axis=0 berarti menghapus sepanjang baris."
   ]
  },
  {
   "cell_type": "code",
   "execution_count": 16,
   "metadata": {},
   "outputs": [
    {
     "data": {
      "text/html": [
       "<div>\n",
       "<style scoped>\n",
       "    .dataframe tbody tr th:only-of-type {\n",
       "        vertical-align: middle;\n",
       "    }\n",
       "\n",
       "    .dataframe tbody tr th {\n",
       "        vertical-align: top;\n",
       "    }\n",
       "\n",
       "    .dataframe thead th {\n",
       "        text-align: right;\n",
       "    }\n",
       "</style>\n",
       "<table border=\"1\" class=\"dataframe\">\n",
       "  <thead>\n",
       "    <tr style=\"text-align: right;\">\n",
       "      <th></th>\n",
       "      <th>A</th>\n",
       "      <th>D</th>\n",
       "      <th>E</th>\n",
       "      <th>F</th>\n",
       "      <th>G</th>\n",
       "    </tr>\n",
       "  </thead>\n",
       "  <tbody>\n",
       "    <tr>\n",
       "      <th>satu</th>\n",
       "      <td>1.0</td>\n",
       "      <td>test</td>\n",
       "      <td>1</td>\n",
       "      <td>4</td>\n",
       "      <td>10.0</td>\n",
       "    </tr>\n",
       "    <tr>\n",
       "      <th>dua</th>\n",
       "      <td>1.0</td>\n",
       "      <td>train</td>\n",
       "      <td>12</td>\n",
       "      <td>15</td>\n",
       "      <td>NaN</td>\n",
       "    </tr>\n",
       "    <tr>\n",
       "      <th>tiga</th>\n",
       "      <td>1.0</td>\n",
       "      <td>test</td>\n",
       "      <td>32</td>\n",
       "      <td>35</td>\n",
       "      <td>20.0</td>\n",
       "    </tr>\n",
       "    <tr>\n",
       "      <th>empat</th>\n",
       "      <td>1.0</td>\n",
       "      <td>train</td>\n",
       "      <td>14</td>\n",
       "      <td>17</td>\n",
       "      <td>30.0</td>\n",
       "    </tr>\n",
       "    <tr>\n",
       "      <th>0</th>\n",
       "      <td>1.0</td>\n",
       "      <td>train</td>\n",
       "      <td>4</td>\n",
       "      <td>5</td>\n",
       "      <td>6.0</td>\n",
       "    </tr>\n",
       "    <tr>\n",
       "      <th>1</th>\n",
       "      <td>2.0</td>\n",
       "      <td>test</td>\n",
       "      <td>7</td>\n",
       "      <td>12</td>\n",
       "      <td>34.0</td>\n",
       "    </tr>\n",
       "  </tbody>\n",
       "</table>\n",
       "</div>"
      ],
      "text/plain": [
       "         A      D   E   F     G\n",
       "satu   1.0   test   1   4  10.0\n",
       "dua    1.0  train  12  15   NaN\n",
       "tiga   1.0   test  32  35  20.0\n",
       "empat  1.0  train  14  17  30.0\n",
       "0      1.0  train   4   5   6.0\n",
       "1      2.0   test   7  12  34.0"
      ]
     },
     "execution_count": 16,
     "metadata": {},
     "output_type": "execute_result"
    }
   ],
   "source": [
    "# Menambah baris menggunakan fungsi append\n",
    "contoh3 = pd.DataFrame([[1,\"train\",4,5,6.0], [2,\"test\",7,12,34]], columns=[\"A\",\"D\",\"E\",\"F\",\"G\"])\n",
    "contoh3\n",
    "\n",
    "contoh4 = contoh2.append(contoh3)\n",
    "contoh4"
   ]
  },
  {
   "cell_type": "code",
   "execution_count": 17,
   "metadata": {},
   "outputs": [
    {
     "data": {
      "text/plain": [
       "A       1\n",
       "D    test\n",
       "E      32\n",
       "F      35\n",
       "G      20\n",
       "Name: tiga, dtype: object"
      ]
     },
     "execution_count": 17,
     "metadata": {},
     "output_type": "execute_result"
    }
   ],
   "source": [
    "# Menyeleksi indeks \"tiga\" pada baris\n",
    "contoh4.loc[\"tiga\"]"
   ]
  },
  {
   "cell_type": "code",
   "execution_count": 18,
   "metadata": {},
   "outputs": [
    {
     "data": {
      "text/html": [
       "<div>\n",
       "<style scoped>\n",
       "    .dataframe tbody tr th:only-of-type {\n",
       "        vertical-align: middle;\n",
       "    }\n",
       "\n",
       "    .dataframe tbody tr th {\n",
       "        vertical-align: top;\n",
       "    }\n",
       "\n",
       "    .dataframe thead th {\n",
       "        text-align: right;\n",
       "    }\n",
       "</style>\n",
       "<table border=\"1\" class=\"dataframe\">\n",
       "  <thead>\n",
       "    <tr style=\"text-align: right;\">\n",
       "      <th></th>\n",
       "      <th>A</th>\n",
       "      <th>D</th>\n",
       "      <th>E</th>\n",
       "      <th>F</th>\n",
       "      <th>G</th>\n",
       "    </tr>\n",
       "  </thead>\n",
       "  <tbody>\n",
       "    <tr>\n",
       "      <th>dua</th>\n",
       "      <td>1.0</td>\n",
       "      <td>train</td>\n",
       "      <td>12</td>\n",
       "      <td>15</td>\n",
       "      <td>NaN</td>\n",
       "    </tr>\n",
       "    <tr>\n",
       "      <th>tiga</th>\n",
       "      <td>1.0</td>\n",
       "      <td>test</td>\n",
       "      <td>32</td>\n",
       "      <td>35</td>\n",
       "      <td>20.0</td>\n",
       "    </tr>\n",
       "  </tbody>\n",
       "</table>\n",
       "</div>"
      ],
      "text/plain": [
       "        A      D   E   F     G\n",
       "dua   1.0  train  12  15   NaN\n",
       "tiga  1.0   test  32  35  20.0"
      ]
     },
     "execution_count": 18,
     "metadata": {},
     "output_type": "execute_result"
    }
   ],
   "source": [
    "# Menyeleksi baris ke 2 dan 3, dengan menyebut urutannya, kemudian mengcopy hasilnya\n",
    "contoh5=contoh4.iloc[1:3].copy()\n",
    "contoh5"
   ]
  },
  {
   "cell_type": "code",
   "execution_count": 19,
   "metadata": {},
   "outputs": [
    {
     "data": {
      "text/html": [
       "<div>\n",
       "<style scoped>\n",
       "    .dataframe tbody tr th:only-of-type {\n",
       "        vertical-align: middle;\n",
       "    }\n",
       "\n",
       "    .dataframe tbody tr th {\n",
       "        vertical-align: top;\n",
       "    }\n",
       "\n",
       "    .dataframe thead th {\n",
       "        text-align: right;\n",
       "    }\n",
       "</style>\n",
       "<table border=\"1\" class=\"dataframe\">\n",
       "  <thead>\n",
       "    <tr style=\"text-align: right;\">\n",
       "      <th></th>\n",
       "      <th>A</th>\n",
       "      <th>D</th>\n",
       "      <th>E</th>\n",
       "      <th>F</th>\n",
       "      <th>G</th>\n",
       "    </tr>\n",
       "  </thead>\n",
       "  <tbody>\n",
       "    <tr>\n",
       "      <th>dua</th>\n",
       "      <td>1.0</td>\n",
       "      <td>train</td>\n",
       "      <td>12</td>\n",
       "      <td>15</td>\n",
       "      <td>NaN</td>\n",
       "    </tr>\n",
       "  </tbody>\n",
       "</table>\n",
       "</div>"
      ],
      "text/plain": [
       "       A      D   E   F   G\n",
       "dua  1.0  train  12  15 NaN"
      ]
     },
     "execution_count": 19,
     "metadata": {},
     "output_type": "execute_result"
    }
   ],
   "source": [
    "# Menghapus baris dengan indeks \"tiga\". Simpan variabel dengan nama \"contoh5_hapus\"\n",
    "contoh5_hapus = contoh5.drop(\"tiga\", axis=0)\n",
    "contoh5_hapus"
   ]
  },
  {
   "cell_type": "markdown",
   "metadata": {},
   "source": [
    "## 4. Menyeleksi/megiris data frame berdasar baris dan kolom\n",
    "\n"
   ]
  },
  {
   "cell_type": "code",
   "execution_count": 23,
   "metadata": {},
   "outputs": [
    {
     "data": {
      "text/html": [
       "<div>\n",
       "<style scoped>\n",
       "    .dataframe tbody tr th:only-of-type {\n",
       "        vertical-align: middle;\n",
       "    }\n",
       "\n",
       "    .dataframe tbody tr th {\n",
       "        vertical-align: top;\n",
       "    }\n",
       "\n",
       "    .dataframe thead th {\n",
       "        text-align: right;\n",
       "    }\n",
       "</style>\n",
       "<table border=\"1\" class=\"dataframe\">\n",
       "  <thead>\n",
       "    <tr style=\"text-align: right;\">\n",
       "      <th></th>\n",
       "      <th>A</th>\n",
       "      <th>D</th>\n",
       "      <th>E</th>\n",
       "      <th>F</th>\n",
       "      <th>G</th>\n",
       "    </tr>\n",
       "  </thead>\n",
       "  <tbody>\n",
       "    <tr>\n",
       "      <th>satu</th>\n",
       "      <td>1.0</td>\n",
       "      <td>test</td>\n",
       "      <td>1</td>\n",
       "      <td>4</td>\n",
       "      <td>10.0</td>\n",
       "    </tr>\n",
       "    <tr>\n",
       "      <th>dua</th>\n",
       "      <td>1.0</td>\n",
       "      <td>train</td>\n",
       "      <td>12</td>\n",
       "      <td>15</td>\n",
       "      <td>NaN</td>\n",
       "    </tr>\n",
       "    <tr>\n",
       "      <th>tiga</th>\n",
       "      <td>1.0</td>\n",
       "      <td>test</td>\n",
       "      <td>32</td>\n",
       "      <td>35</td>\n",
       "      <td>20.0</td>\n",
       "    </tr>\n",
       "    <tr>\n",
       "      <th>empat</th>\n",
       "      <td>1.0</td>\n",
       "      <td>train</td>\n",
       "      <td>14</td>\n",
       "      <td>17</td>\n",
       "      <td>30.0</td>\n",
       "    </tr>\n",
       "  </tbody>\n",
       "</table>\n",
       "</div>"
      ],
      "text/plain": [
       "         A      D   E   F     G\n",
       "satu   1.0   test   1   4  10.0\n",
       "dua    1.0  train  12  15   NaN\n",
       "tiga   1.0   test  32  35  20.0\n",
       "empat  1.0  train  14  17  30.0"
      ]
     },
     "execution_count": 23,
     "metadata": {},
     "output_type": "execute_result"
    }
   ],
   "source": [
    "contoh2"
   ]
  },
  {
   "cell_type": "code",
   "execution_count": 20,
   "metadata": {},
   "outputs": [
    {
     "data": {
      "text/html": [
       "<div>\n",
       "<style scoped>\n",
       "    .dataframe tbody tr th:only-of-type {\n",
       "        vertical-align: middle;\n",
       "    }\n",
       "\n",
       "    .dataframe tbody tr th {\n",
       "        vertical-align: top;\n",
       "    }\n",
       "\n",
       "    .dataframe thead th {\n",
       "        text-align: right;\n",
       "    }\n",
       "</style>\n",
       "<table border=\"1\" class=\"dataframe\">\n",
       "  <thead>\n",
       "    <tr style=\"text-align: right;\">\n",
       "      <th></th>\n",
       "      <th>E</th>\n",
       "      <th>F</th>\n",
       "      <th>G</th>\n",
       "    </tr>\n",
       "  </thead>\n",
       "  <tbody>\n",
       "    <tr>\n",
       "      <th>dua</th>\n",
       "      <td>12</td>\n",
       "      <td>15</td>\n",
       "      <td>NaN</td>\n",
       "    </tr>\n",
       "    <tr>\n",
       "      <th>tiga</th>\n",
       "      <td>32</td>\n",
       "      <td>35</td>\n",
       "      <td>20.0</td>\n",
       "    </tr>\n",
       "  </tbody>\n",
       "</table>\n",
       "</div>"
      ],
      "text/plain": [
       "       E   F     G\n",
       "dua   12  15   NaN\n",
       "tiga  32  35  20.0"
      ]
     },
     "execution_count": 20,
     "metadata": {},
     "output_type": "execute_result"
    }
   ],
   "source": [
    "# mengiris data baris dan kolom\n",
    "contoh2.iloc[1:3, 2:5]"
   ]
  },
  {
   "cell_type": "code",
   "execution_count": null,
   "metadata": {},
   "outputs": [],
   "source": [
    "# Menampilkan informasi pada data frame\n",
    "contoh2.info()"
   ]
  },
  {
   "cell_type": "markdown",
   "metadata": {},
   "source": [
    "### Fungsi dasar untuk series  \n",
    "\n",
    "\n",
    "Berikut fungsi dasar untuk series (deret)  \n",
    "\n",
    "No   | Fungsi   | Deskripsi\n",
    ":---:|:---      |:---   \n",
    "1    | axes     | Daftar label baris dan kolom |\n",
    "2    | dtypes   | Daftar tipe data setiap kolom |\n",
    "3    | empty    | Akan bernilai True jika deret ada yang kosong |\n",
    "4    | size     | Ukuran dari data |\n",
    "5    | values   | Mengubah deret menjadi ndarray (n dimensional array) |\n",
    "6    | head()   | Menampilkan n data pertama |\n",
    "7    | tail()   | Menampilkan n data terakhir |"
   ]
  },
  {
   "cell_type": "code",
   "execution_count": null,
   "metadata": {},
   "outputs": [],
   "source": [
    "# cobalah fungsi axes, dtypes, empty, size, head, tail untuk contoh2"
   ]
  },
  {
   "cell_type": "markdown",
   "metadata": {},
   "source": [
    "## 5. Mengimport atau membaca file (csv, xls)"
   ]
  },
  {
   "cell_type": "code",
   "execution_count": 21,
   "metadata": {},
   "outputs": [
    {
     "data": {
      "text/html": [
       "<div>\n",
       "<style scoped>\n",
       "    .dataframe tbody tr th:only-of-type {\n",
       "        vertical-align: middle;\n",
       "    }\n",
       "\n",
       "    .dataframe tbody tr th {\n",
       "        vertical-align: top;\n",
       "    }\n",
       "\n",
       "    .dataframe thead th {\n",
       "        text-align: right;\n",
       "    }\n",
       "</style>\n",
       "<table border=\"1\" class=\"dataframe\">\n",
       "  <thead>\n",
       "    <tr style=\"text-align: right;\">\n",
       "      <th></th>\n",
       "      <th>Row ID</th>\n",
       "      <th>Order ID</th>\n",
       "      <th>Order Date</th>\n",
       "      <th>Ship Date</th>\n",
       "      <th>Ship Mode</th>\n",
       "      <th>Customer ID</th>\n",
       "      <th>Customer Name</th>\n",
       "      <th>Segment</th>\n",
       "      <th>Kota</th>\n",
       "      <th>State</th>\n",
       "      <th>Country</th>\n",
       "      <th>Region</th>\n",
       "      <th>Product ID</th>\n",
       "      <th>Category</th>\n",
       "      <th>Sub-Category</th>\n",
       "      <th>Product Name</th>\n",
       "      <th>Sales</th>\n",
       "      <th>Quantity</th>\n",
       "      <th>Discount</th>\n",
       "      <th>Profit</th>\n",
       "    </tr>\n",
       "  </thead>\n",
       "  <tbody>\n",
       "    <tr>\n",
       "      <th>0</th>\n",
       "      <td>18</td>\n",
       "      <td>ID-2014-44908</td>\n",
       "      <td>2014-02-26</td>\n",
       "      <td>2014-03-04</td>\n",
       "      <td>Standard Class</td>\n",
       "      <td>AI-10855</td>\n",
       "      <td>Arianne Irving</td>\n",
       "      <td>Consumer</td>\n",
       "      <td>Bandung</td>\n",
       "      <td>Jawa Barat</td>\n",
       "      <td>Indonesia</td>\n",
       "      <td>Southeast Asia</td>\n",
       "      <td>OFF-SU-10004848</td>\n",
       "      <td>Office Supplies</td>\n",
       "      <td>Supplies</td>\n",
       "      <td>Kleencut Shears, High Speed</td>\n",
       "      <td>123.9405</td>\n",
       "      <td>5</td>\n",
       "      <td>0.47</td>\n",
       "      <td>-84.2595</td>\n",
       "    </tr>\n",
       "    <tr>\n",
       "      <th>1</th>\n",
       "      <td>19</td>\n",
       "      <td>ID-2014-44908</td>\n",
       "      <td>2014-02-26</td>\n",
       "      <td>2014-03-04</td>\n",
       "      <td>Standard Class</td>\n",
       "      <td>AI-10855</td>\n",
       "      <td>Arianne Irving</td>\n",
       "      <td>Consumer</td>\n",
       "      <td>Bandung</td>\n",
       "      <td>Jawa Barat</td>\n",
       "      <td>Indonesia</td>\n",
       "      <td>Southeast Asia</td>\n",
       "      <td>OFF-PA-10003332</td>\n",
       "      <td>Office Supplies</td>\n",
       "      <td>Paper</td>\n",
       "      <td>Xerox Cards &amp; Envelopes, Recycled</td>\n",
       "      <td>47.5728</td>\n",
       "      <td>2</td>\n",
       "      <td>0.47</td>\n",
       "      <td>-15.3072</td>\n",
       "    </tr>\n",
       "    <tr>\n",
       "      <th>2</th>\n",
       "      <td>20</td>\n",
       "      <td>ID-2012-73146</td>\n",
       "      <td>2012-10-24</td>\n",
       "      <td>2012-10-30</td>\n",
       "      <td>Standard Class</td>\n",
       "      <td>HM-14980</td>\n",
       "      <td>Henry MacAllister</td>\n",
       "      <td>Consumer</td>\n",
       "      <td>Denpasar</td>\n",
       "      <td>Bali</td>\n",
       "      <td>Indonesia</td>\n",
       "      <td>Southeast Asia</td>\n",
       "      <td>OFF-AP-10000487</td>\n",
       "      <td>Office Supplies</td>\n",
       "      <td>Appliances</td>\n",
       "      <td>Hoover Stove, Silver</td>\n",
       "      <td>1417.3578</td>\n",
       "      <td>3</td>\n",
       "      <td>0.17</td>\n",
       "      <td>-290.3022</td>\n",
       "    </tr>\n",
       "    <tr>\n",
       "      <th>3</th>\n",
       "      <td>21</td>\n",
       "      <td>ID-2012-73146</td>\n",
       "      <td>2012-10-24</td>\n",
       "      <td>2012-10-30</td>\n",
       "      <td>Standard Class</td>\n",
       "      <td>HM-14980</td>\n",
       "      <td>Henry MacAllister</td>\n",
       "      <td>Consumer</td>\n",
       "      <td>Denpasar</td>\n",
       "      <td>Bali</td>\n",
       "      <td>Indonesia</td>\n",
       "      <td>Southeast Asia</td>\n",
       "      <td>OFF-LA-10000095</td>\n",
       "      <td>Office Supplies</td>\n",
       "      <td>Labels</td>\n",
       "      <td>Avery Round Labels, Laser Printer Compatible</td>\n",
       "      <td>22.7052</td>\n",
       "      <td>6</td>\n",
       "      <td>0.47</td>\n",
       "      <td>-4.2948</td>\n",
       "    </tr>\n",
       "    <tr>\n",
       "      <th>4</th>\n",
       "      <td>24</td>\n",
       "      <td>ID-2012-57809</td>\n",
       "      <td>2012-10-09</td>\n",
       "      <td>2012-10-13</td>\n",
       "      <td>Standard Class</td>\n",
       "      <td>AO-10810</td>\n",
       "      <td>Anthony O'Donnell</td>\n",
       "      <td>Corporate</td>\n",
       "      <td>Pekanbaru</td>\n",
       "      <td>Riau</td>\n",
       "      <td>Indonesia</td>\n",
       "      <td>Southeast Asia</td>\n",
       "      <td>FUR-TA-10000665</td>\n",
       "      <td>Furniture</td>\n",
       "      <td>Tables</td>\n",
       "      <td>Bevis Computer Table, Fully Assembled</td>\n",
       "      <td>786.2868</td>\n",
       "      <td>3</td>\n",
       "      <td>0.47</td>\n",
       "      <td>-563.8032</td>\n",
       "    </tr>\n",
       "  </tbody>\n",
       "</table>\n",
       "</div>"
      ],
      "text/plain": [
       "   Row ID       Order ID Order Date  Ship Date       Ship Mode Customer ID  \\\n",
       "0      18  ID-2014-44908 2014-02-26 2014-03-04  Standard Class    AI-10855   \n",
       "1      19  ID-2014-44908 2014-02-26 2014-03-04  Standard Class    AI-10855   \n",
       "2      20  ID-2012-73146 2012-10-24 2012-10-30  Standard Class    HM-14980   \n",
       "3      21  ID-2012-73146 2012-10-24 2012-10-30  Standard Class    HM-14980   \n",
       "4      24  ID-2012-57809 2012-10-09 2012-10-13  Standard Class    AO-10810   \n",
       "\n",
       "       Customer Name    Segment       Kota       State    Country  \\\n",
       "0     Arianne Irving   Consumer    Bandung  Jawa Barat  Indonesia   \n",
       "1     Arianne Irving   Consumer    Bandung  Jawa Barat  Indonesia   \n",
       "2  Henry MacAllister   Consumer   Denpasar        Bali  Indonesia   \n",
       "3  Henry MacAllister   Consumer   Denpasar        Bali  Indonesia   \n",
       "4  Anthony O'Donnell  Corporate  Pekanbaru        Riau  Indonesia   \n",
       "\n",
       "           Region       Product ID         Category Sub-Category  \\\n",
       "0  Southeast Asia  OFF-SU-10004848  Office Supplies     Supplies   \n",
       "1  Southeast Asia  OFF-PA-10003332  Office Supplies        Paper   \n",
       "2  Southeast Asia  OFF-AP-10000487  Office Supplies   Appliances   \n",
       "3  Southeast Asia  OFF-LA-10000095  Office Supplies       Labels   \n",
       "4  Southeast Asia  FUR-TA-10000665        Furniture       Tables   \n",
       "\n",
       "                                   Product Name      Sales  Quantity  \\\n",
       "0                   Kleencut Shears, High Speed   123.9405         5   \n",
       "1             Xerox Cards & Envelopes, Recycled    47.5728         2   \n",
       "2                          Hoover Stove, Silver  1417.3578         3   \n",
       "3  Avery Round Labels, Laser Printer Compatible    22.7052         6   \n",
       "4         Bevis Computer Table, Fully Assembled   786.2868         3   \n",
       "\n",
       "   Discount    Profit  \n",
       "0      0.47  -84.2595  \n",
       "1      0.47  -15.3072  \n",
       "2      0.17 -290.3022  \n",
       "3      0.47   -4.2948  \n",
       "4      0.47 -563.8032  "
      ]
     },
     "execution_count": 21,
     "metadata": {},
     "output_type": "execute_result"
    }
   ],
   "source": [
    "# Membaca file xls. File terletak dalam satu folder dengan notebook jupyter\n",
    "superstore = pd.read_excel(\"Superstore.xls\")\n",
    "superstore.head()"
   ]
  },
  {
   "cell_type": "code",
   "execution_count": null,
   "metadata": {},
   "outputs": [],
   "source": [
    "# Gunakan fungsi dasar untuk series, untuk melihat informasi tabel\n",
    "superstore.empty"
   ]
  },
  {
   "cell_type": "code",
   "execution_count": null,
   "metadata": {},
   "outputs": [],
   "source": [
    "superstore.dtypes"
   ]
  },
  {
   "cell_type": "code",
   "execution_count": null,
   "metadata": {},
   "outputs": [],
   "source": [
    "superstore.size"
   ]
  },
  {
   "cell_type": "code",
   "execution_count": null,
   "metadata": {},
   "outputs": [],
   "source": [
    "# apakah tipe data superstore? Gunakan fungsi type\n"
   ]
  },
  {
   "cell_type": "code",
   "execution_count": null,
   "metadata": {},
   "outputs": [],
   "source": [
    "# Berapakah dimensi data superstore? Gunakan shape\n"
   ]
  },
  {
   "cell_type": "code",
   "execution_count": null,
   "metadata": {},
   "outputs": [],
   "source": [
    "# Gunakan fungsi .info() untuk mengetahui gambaran data superstore\n"
   ]
  },
  {
   "cell_type": "code",
   "execution_count": 22,
   "metadata": {},
   "outputs": [
    {
     "data": {
      "text/plain": [
       "0                     Kleencut Shears, High Speed\n",
       "1               Xerox Cards & Envelopes, Recycled\n",
       "2                            Hoover Stove, Silver\n",
       "3    Avery Round Labels, Laser Printer Compatible\n",
       "4           Bevis Computer Table, Fully Assembled\n",
       "5                     Sanford Canvas, Fluorescent\n",
       "6     Binney & Smith Pencil Sharpener, Easy-Erase\n",
       "7                Novimex Swivel Stool, Adjustable\n",
       "8                   Panasonic Calculator, Durable\n",
       "9                         Stockwell Clamps, Metal\n",
       "Name: Product Name, dtype: object"
      ]
     },
     "execution_count": 22,
     "metadata": {},
     "output_type": "execute_result"
    }
   ],
   "source": [
    "# Pilih kolom \"Product Name\", dan simpan dalam variabel produk\n",
    "\n",
    "produk = superstore['Product Name']\n",
    "produk.head(10)"
   ]
  },
  {
   "cell_type": "code",
   "execution_count": null,
   "metadata": {},
   "outputs": [],
   "source": [
    "# Apakah tipe dari variabel produk?\n"
   ]
  },
  {
   "cell_type": "code",
   "execution_count": null,
   "metadata": {},
   "outputs": [],
   "source": [
    "# Menjadikan series ke array dengan .values\n"
   ]
  },
  {
   "cell_type": "code",
   "execution_count": null,
   "metadata": {},
   "outputs": [],
   "source": [
    "# Memilih baris kelipatan 3, dengan semua kolom. Kemudian tampilkan 10 data pertama\n"
   ]
  },
  {
   "cell_type": "code",
   "execution_count": null,
   "metadata": {},
   "outputs": [],
   "source": [
    "# Menyeleksi data dengan Kota adalah \"Semarang\". Kemudian tampilkan 5 data pertama\n"
   ]
  },
  {
   "cell_type": "markdown",
   "metadata": {},
   "source": [
    "## 6. Menambahkan kolom baru pada data frame"
   ]
  },
  {
   "cell_type": "code",
   "execution_count": null,
   "metadata": {},
   "outputs": [],
   "source": [
    "# Tambahkan kolom \"Garansi\", dan isikan semua baris dengan \"Tidak Bergaransi\"\n"
   ]
  },
  {
   "cell_type": "code",
   "execution_count": null,
   "metadata": {},
   "outputs": [],
   "source": [
    "# Seleksi kolom Customer ID, Kota, Sub-Category, dan Profit. Simpan dalam variabel superstore2\n"
   ]
  },
  {
   "cell_type": "code",
   "execution_count": null,
   "metadata": {},
   "outputs": [],
   "source": [
    "# Seleksi superstore2, yang Kota adalah Semarang, memiliki Profit lebih dari 20. Simpan dalam superstore2_filter. \n"
   ]
  },
  {
   "cell_type": "code",
   "execution_count": null,
   "metadata": {},
   "outputs": [],
   "source": [
    "# Berapakah data yang sesuai dengan kondisi setelah dilakukan filtering? \n",
    "superstore2_filter.count()"
   ]
  },
  {
   "cell_type": "code",
   "execution_count": null,
   "metadata": {},
   "outputs": [],
   "source": []
  }
 ],
 "metadata": {
  "celltoolbar": "Slideshow",
  "kernelspec": {
   "display_name": "Python 3",
   "language": "python",
   "name": "python3"
  },
  "language_info": {
   "codemirror_mode": {
    "name": "ipython",
    "version": 3
   },
   "file_extension": ".py",
   "mimetype": "text/x-python",
   "name": "python",
   "nbconvert_exporter": "python",
   "pygments_lexer": "ipython3",
   "version": "3.7.0"
  }
 },
 "nbformat": 4,
 "nbformat_minor": 2
}
